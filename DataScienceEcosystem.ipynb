{
  "metadata": {
    "kernelspec": {
      "name": "python",
      "display_name": "Python (Pyodide)",
      "language": "python"
    },
    "language_info": {
      "codemirror_mode": {
        "name": "python",
        "version": 3
      },
      "file_extension": ".py",
      "mimetype": "text/x-python",
      "name": "python",
      "nbconvert_exporter": "python",
      "pygments_lexer": "ipython3",
      "version": "3.8"
    }
  },
  "nbformat_minor": 5,
  "nbformat": 4,
  "cells": [
    {
      "id": "bb5cf64b-2877-4d03-912c-d52467f868d0",
      "cell_type": "markdown",
      "source": "# Data Science Tools and Ecosystem",
      "metadata": {}
    },
    {
      "id": "e03b4872-dec6-4aa6-81aa-9c92e75f2fea",
      "cell_type": "markdown",
      "source": "In this notebook, Data Science Tools and Ecosystem are summarized",
      "metadata": {}
    },
    {
      "id": "9443d72c-ad47-471b-b98e-1d7cabc4c28e",
      "cell_type": "markdown",
      "source": "**Objectives:**\n- List three important data science tools\n- List important data science libraries\n- performed arithmatic operations in Jupyter Notebook",
      "metadata": {}
    },
    {
      "id": "788fac86-fd96-4675-90ba-32ecad7d9b61",
      "cell_type": "markdown",
      "source": "Some of the popular languages that Data Scientists use are:\n1. Python\n2. R\n3. SQL",
      "metadata": {}
    },
    {
      "id": "09e59ff1-0278-4b63-afeb-0afcdfd40e3b",
      "cell_type": "markdown",
      "source": "Some of the commonly used libraries used by Data Scientists include:\n\n1. Pandas\n2. NumPy\n3. Matplotlib\n4. Seaborn\n5. Scikit-learn\n6. Keras\n7. TensorFlow\n8. PyTorch\n9. ggplot2",
      "metadata": {}
    },
    {
      "id": "82fcb007-398d-4723-b765-f77ac5b77ff0",
      "cell_type": "markdown",
      "source": "|Data Science Tools|\n|------------------|\n|Google Colab|\n|JupyterLab|\n|R Studio|",
      "metadata": {}
    },
    {
      "id": "b151c020-bd14-4c6f-ba51-5fe00b404102",
      "cell_type": "markdown",
      "source": "### Below are a few examples of evaluating arithmetic expressions in Python.",
      "metadata": {}
    },
    {
      "id": "a4391614-d3d8-48c6-93ca-7acbf724bb4e",
      "cell_type": "code",
      "source": "# This a simple arithmetic expression to mutiply then add integers.\n(3*4)+5",
      "metadata": {
        "trusted": true
      },
      "outputs": [
        {
          "execution_count": 2,
          "output_type": "execute_result",
          "data": {
            "text/plain": "17"
          },
          "metadata": {}
        }
      ],
      "execution_count": 2
    },
    {
      "id": "66f20fbd-1b82-4351-8131-085bc7b1a00f",
      "cell_type": "code",
      "source": "# This will convert 200 minutes to hours by diving by 60\n200/60",
      "metadata": {
        "trusted": true
      },
      "outputs": [
        {
          "execution_count": 3,
          "output_type": "execute_result",
          "data": {
            "text/plain": "3.3333333333333335"
          },
          "metadata": {}
        }
      ],
      "execution_count": 3
    },
    {
      "id": "cbb74e51-0449-4368-889b-2c692b0484d0",
      "cell_type": "markdown",
      "source": "## Author\nVijaya Lakshmi Kedari",
      "metadata": {}
    },
    {
      "id": "9118dba8-0e6e-4ec9-9759-d3a86ccf88df",
      "cell_type": "code",
      "source": "",
      "metadata": {
        "trusted": true
      },
      "outputs": [],
      "execution_count": null
    }
  ]
}